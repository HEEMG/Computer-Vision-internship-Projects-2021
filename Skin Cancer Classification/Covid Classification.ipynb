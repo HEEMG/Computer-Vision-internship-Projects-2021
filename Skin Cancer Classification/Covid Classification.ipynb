{
  "nbformat": 4,
  "nbformat_minor": 0,
  "metadata": {
    "kernelspec": {
      "language": "python",
      "display_name": "Python 3",
      "name": "python3"
    },
    "language_info": {
      "name": "python",
      "version": "3.7.10",
      "mimetype": "text/x-python",
      "codemirror_mode": {
        "name": "ipython",
        "version": 3
      },
      "pygments_lexer": "ipython3",
      "nbconvert_exporter": "python",
      "file_extension": ".py"
    },
    "colab": {
      "name": "covid20G27graphy.ipynb",
      "provenance": [],
      "collapsed_sections": []
    }
  },
  "cells": [
    {
      "cell_type": "code",
      "metadata": {
        "_uuid": "8f2839f25d086af736a60e9eeb907d3b93b6e0e5",
        "_cell_guid": "b1076dfc-b9ad-4769-8c92-a6c4dae69d19",
        "id": "SYR4JSuqln-8",
        "execution": {
          "iopub.status.busy": "2021-06-21T14:17:58.716347Z",
          "iopub.execute_input": "2021-06-21T14:17:58.716758Z",
          "iopub.status.idle": "2021-06-21T14:17:58.724089Z",
          "shell.execute_reply.started": "2021-06-21T14:17:58.716725Z",
          "shell.execute_reply": "2021-06-21T14:17:58.722784Z"
        },
        "trusted": true
      },
      "source": [
        "import matplotlib.pyplot as plt\n",
        "import numpy as np\n",
        "import os\n",
        "import PIL\n",
        "import tensorflow as tf\n",
        "\n",
        "from tensorflow import keras\n",
        "from tensorflow.keras import layers \n",
        "from tensorflow.keras.models import Sequential\n",
        "from keras.models import Sequential\n",
        "from keras.layers import Conv2D\n",
        "from keras.layers import MaxPooling2D\n",
        "from keras.layers import Flatten\n",
        "from keras.layers import Dense, Activation , Dropout\n",
        "from tensorflow.keras.regularizers import l2"
      ],
      "execution_count": null,
      "outputs": []
    },
    {
      "cell_type": "code",
      "metadata": {
        "id": "C0LLAkv8ln_F",
        "execution": {
          "iopub.status.busy": "2021-06-21T14:17:59.769303Z",
          "iopub.execute_input": "2021-06-21T14:17:59.769774Z",
          "iopub.status.idle": "2021-06-21T14:17:59.775179Z",
          "shell.execute_reply.started": "2021-06-21T14:17:59.769704Z",
          "shell.execute_reply": "2021-06-21T14:17:59.773449Z"
        },
        "trusted": true
      },
      "source": [
        "Covoid_dataset_dir = \"../input/covid19-radiography-dataset/COVID-19_Radiography_Dataset/COVID-19_Radiography_Dataset\"\n",
        "batch_size = 16\n",
        "img_height = 64\n",
        "img_width = 64\n"
      ],
      "execution_count": null,
      "outputs": []
    },
    {
      "cell_type": "code",
      "metadata": {
        "execution": {
          "iopub.status.busy": "2021-06-21T14:18:00.710726Z",
          "iopub.execute_input": "2021-06-21T14:18:00.711154Z",
          "iopub.status.idle": "2021-06-21T14:18:02.001516Z",
          "shell.execute_reply.started": "2021-06-21T14:18:00.711119Z",
          "shell.execute_reply": "2021-06-21T14:18:02.000239Z"
        },
        "trusted": true,
        "id": "TQ2R_Yf4gWN7",
        "outputId": "65d57fb5-1f8d-4c71-fabb-4810343582a0"
      },
      "source": [
        "datagen_kwargs = dict(rescale=1./255, validation_split=.20)\n",
        "dataflow_kwargs = dict(target_size=(64,64), batch_size=16,\n",
        "                   interpolation=\"bilinear\")\n",
        "\n",
        "valid_datagen = tf.keras.preprocessing.image.ImageDataGenerator(\n",
        "    **datagen_kwargs)\n",
        "valid_generator = valid_datagen.flow_from_directory(\n",
        "    Covoid_dataset_dir, subset=\"validation\", shuffle=False, **dataflow_kwargs)\n",
        "\n",
        "do_data_augmentation = False \n",
        "if do_data_augmentation:\n",
        "  train_datagen = tf.keras.preprocessing.image.ImageDataGenerator(\n",
        "      rotation_range= 40, #\n",
        "      horizontal_flip=True,\n",
        "      width_shift_range=0.2, height_shift_range= 0.2,\n",
        "      shear_range=0.2, zoom_range= 0.2,\n",
        "      **datagen_kwargs)\n",
        "else:\n",
        "  train_datagen = valid_datagen\n",
        "train_generator = train_datagen.flow_from_directory(\n",
        "    Covoid_dataset_dir, subset=\"training\", shuffle=True, **dataflow_kwargs)"
      ],
      "execution_count": null,
      "outputs": [
        {
          "output_type": "stream",
          "text": [
            "Found 4232 images belonging to 4 classes.\n",
            "Found 16933 images belonging to 4 classes.\n"
          ],
          "name": "stdout"
        }
      ]
    },
    {
      "cell_type": "code",
      "metadata": {
        "id": "sjTRyUDNln_K",
        "execution": {
          "iopub.status.busy": "2021-06-21T14:18:02.216358Z",
          "iopub.execute_input": "2021-06-21T14:18:02.216834Z",
          "iopub.status.idle": "2021-06-21T14:18:02.334219Z",
          "shell.execute_reply.started": "2021-06-21T14:18:02.216802Z",
          "shell.execute_reply": "2021-06-21T14:18:02.333120Z"
        },
        "trusted": true,
        "outputId": "379a8d2a-e2e6-4571-b75e-4ede9967d18f"
      },
      "source": [
        "model = Sequential()\n",
        "# Padding = 'same'  results in padding the input such that\n",
        "# the output has the same length as the original input\n",
        "#activation function is to introduce non-linearity into the output of a neuron.\n",
        "model.add(Conv2D(16, (3, 3), padding='same',\n",
        "                 input_shape= (64, 64, 3),activation = 'relu'))\n",
        "\n",
        "\n",
        "model.add(Conv2D(32, (3, 3)))\n",
        "model.add(Activation('relu'))\n",
        "model.add(MaxPooling2D())\n",
        "#model.add(Dropout(0.3))  \n",
        "\n",
        "model.add(Conv2D(64, (3, 3), padding='same'))\n",
        "model.add(Activation('relu'))\n",
        "model.add(MaxPooling2D())\n",
        "#model.add(Dropout(0.3))\n",
        "\n",
        "model.add(Flatten())\n",
        "model.add(Dense(128))\n",
        "model.add(Activation('relu'))\n",
        "model.add(Dropout(0.2)) \n",
        "model.add(Dense(units = 81, activation = 'relu'))\n",
        "model.add(Dense(units = 128 , activation = 'relu'))\n",
        "# model.add(Dense(units = 81, activation = 'relu'))\n",
        "# model.add(Dense(units = 32, activation = 'relu'))\n",
        "# model.add(Dense(units = 16, activation = 'relu'))\n",
        "# model.add(Dense(units = 8, activation = 'relu'))\n",
        "# model.add(Dense(units = 4, activation = 'relu'))\n",
        "model.add(Dense(4))\n",
        "model.add(Activation('softmax'))\n",
        "\n",
        "model.summary()\n",
        "\n",
        "\n",
        "\n",
        "\n"
      ],
      "execution_count": null,
      "outputs": [
        {
          "output_type": "stream",
          "text": [
            "Model: \"sequential_9\"\n",
            "_________________________________________________________________\n",
            "Layer (type)                 Output Shape              Param #   \n",
            "=================================================================\n",
            "conv2d_27 (Conv2D)           (None, 64, 64, 16)        448       \n",
            "_________________________________________________________________\n",
            "conv2d_28 (Conv2D)           (None, 62, 62, 32)        4640      \n",
            "_________________________________________________________________\n",
            "activation_36 (Activation)   (None, 62, 62, 32)        0         \n",
            "_________________________________________________________________\n",
            "max_pooling2d_18 (MaxPooling (None, 31, 31, 32)        0         \n",
            "_________________________________________________________________\n",
            "conv2d_29 (Conv2D)           (None, 31, 31, 64)        18496     \n",
            "_________________________________________________________________\n",
            "activation_37 (Activation)   (None, 31, 31, 64)        0         \n",
            "_________________________________________________________________\n",
            "max_pooling2d_19 (MaxPooling (None, 15, 15, 64)        0         \n",
            "_________________________________________________________________\n",
            "flatten_9 (Flatten)          (None, 14400)             0         \n",
            "_________________________________________________________________\n",
            "dense_36 (Dense)             (None, 128)               1843328   \n",
            "_________________________________________________________________\n",
            "activation_38 (Activation)   (None, 128)               0         \n",
            "_________________________________________________________________\n",
            "dropout_3 (Dropout)          (None, 128)               0         \n",
            "_________________________________________________________________\n",
            "dense_37 (Dense)             (None, 81)                10449     \n",
            "_________________________________________________________________\n",
            "dense_38 (Dense)             (None, 128)               10496     \n",
            "_________________________________________________________________\n",
            "dense_39 (Dense)             (None, 4)                 516       \n",
            "_________________________________________________________________\n",
            "activation_39 (Activation)   (None, 4)                 0         \n",
            "=================================================================\n",
            "Total params: 1,888,373\n",
            "Trainable params: 1,888,373\n",
            "Non-trainable params: 0\n",
            "_________________________________________________________________\n"
          ],
          "name": "stdout"
        }
      ]
    },
    {
      "cell_type": "code",
      "metadata": {
        "execution": {
          "iopub.status.busy": "2021-06-21T14:18:03.376724Z",
          "iopub.execute_input": "2021-06-21T14:18:03.377104Z",
          "iopub.status.idle": "2021-06-21T14:41:30.458843Z",
          "shell.execute_reply.started": "2021-06-21T14:18:03.377069Z",
          "shell.execute_reply": "2021-06-21T14:41:30.457402Z"
        },
        "trusted": true,
        "id": "IHupLnPOgWN_",
        "outputId": "34e37b4b-2f12-4d1a-ee62-61b232f4921c"
      },
      "source": [
        "# initiate RMSprop optimizer and configure some parameters\n",
        "#opt = keras.optimizers.rmsprop(lr=0.0001, decay=1e-6)\n",
        "from keras.optimizers import RMSprop, SGD, Adam\n",
        "from keras.callbacks import ModelCheckpoint, EarlyStopping, ReduceLROnPlateau\n",
        "\n",
        "                      \n",
        "checkpoint = ModelCheckpoint(\"COVix.h5\",\n",
        "                             monitor=\"val_loss\",\n",
        "                             mode=\"min\",\n",
        "                             save_best_only = True,\n",
        "                             verbose=1)\n",
        "                                    \n",
        "    \n",
        "earlystop = EarlyStopping(monitor = 'val_loss', #value being monitored for improvement\n",
        "                          min_delta = 0.001,  #Abs value and is the main change required before we stop\n",
        "                          patience = 3, #no of epocs we wait before stopping\n",
        "                          verbose = 1,\n",
        "                          restore_best_weights = True) #keep the best weigts once stopped\n",
        "\n",
        "reduce_lr = ReduceLROnPlateau(monitor = 'val_loss',\n",
        "                              factor = 0.1,\n",
        "                              patience = 3,\n",
        "                              verbose = 1,\n",
        "                              min_delta = 0.0001)\n",
        "\n",
        "# we put our call backs into a callback list\n",
        "callbacks = [earlystop, checkpoint, reduce_lr]\n",
        "\n",
        "# We use a very small learning rate \n",
        "model.compile(loss = 'categorical_crossentropy',\n",
        "              optimizer = Adam(lr = 0.001),\n",
        "              metrics = ['accuracy'])\n",
        "\n",
        "nb_train_samples = 16933\n",
        "nb_validation_samples = 4232\n",
        "epochs = 25\n",
        "\n",
        "history = model.fit_generator(\n",
        "    train_generator,\n",
        "    steps_per_epoch = 16933 // 16,\n",
        "    epochs = epochs,\n",
        "    callbacks = callbacks,\n",
        "    validation_data = valid_generator,\n",
        "    validation_steps = 4232// 16)"
      ],
      "execution_count": null,
      "outputs": [
        {
          "output_type": "stream",
          "text": [
            "Epoch 1/25\n",
            "1058/1058 [==============================] - 141s 133ms/step - loss: 0.8619 - accuracy: 0.6362 - val_loss: 0.4899 - val_accuracy: 0.8142\n",
            "\n",
            "Epoch 00001: val_loss improved from inf to 0.48985, saving model to COVix.h5\n",
            "Epoch 2/25\n",
            "1058/1058 [==============================] - 140s 133ms/step - loss: 0.4984 - accuracy: 0.8096 - val_loss: 0.3821 - val_accuracy: 0.8556\n",
            "\n",
            "Epoch 00002: val_loss improved from 0.48985 to 0.38208, saving model to COVix.h5\n",
            "Epoch 3/25\n",
            "1058/1058 [==============================] - 139s 131ms/step - loss: 0.3801 - accuracy: 0.8545 - val_loss: 0.3732 - val_accuracy: 0.8632\n",
            "\n",
            "Epoch 00003: val_loss improved from 0.38208 to 0.37323, saving model to COVix.h5\n",
            "Epoch 4/25\n",
            "1058/1058 [==============================] - 138s 130ms/step - loss: 0.3089 - accuracy: 0.8810 - val_loss: 0.3564 - val_accuracy: 0.8710\n",
            "\n",
            "Epoch 00004: val_loss improved from 0.37323 to 0.35643, saving model to COVix.h5\n",
            "Epoch 5/25\n",
            "1058/1058 [==============================] - 138s 131ms/step - loss: 0.2428 - accuracy: 0.9074 - val_loss: 0.3490 - val_accuracy: 0.8807\n",
            "\n",
            "Epoch 00005: val_loss improved from 0.35643 to 0.34903, saving model to COVix.h5\n",
            "Epoch 6/25\n",
            "1058/1058 [==============================] - 140s 132ms/step - loss: 0.2246 - accuracy: 0.9153 - val_loss: 0.3971 - val_accuracy: 0.8722\n",
            "\n",
            "Epoch 00006: val_loss did not improve from 0.34903\n",
            "Epoch 7/25\n",
            "1058/1058 [==============================] - 140s 133ms/step - loss: 0.1864 - accuracy: 0.9304 - val_loss: 0.3440 - val_accuracy: 0.8866\n",
            "\n",
            "Epoch 00007: val_loss improved from 0.34903 to 0.34400, saving model to COVix.h5\n",
            "Epoch 8/25\n",
            "1058/1058 [==============================] - 141s 133ms/step - loss: 0.1524 - accuracy: 0.9438 - val_loss: 0.3477 - val_accuracy: 0.8859\n",
            "\n",
            "Epoch 00008: val_loss did not improve from 0.34400\n",
            "Epoch 9/25\n",
            "1058/1058 [==============================] - 140s 132ms/step - loss: 0.1324 - accuracy: 0.9513 - val_loss: 0.3628 - val_accuracy: 0.8928\n",
            "\n",
            "Epoch 00009: val_loss did not improve from 0.34400\n",
            "Epoch 10/25\n",
            "1058/1058 [==============================] - 149s 141ms/step - loss: 0.1161 - accuracy: 0.9584 - val_loss: 0.4321 - val_accuracy: 0.8859\n",
            "Restoring model weights from the end of the best epoch.\n",
            "\n",
            "Epoch 00010: val_loss did not improve from 0.34400\n",
            "\n",
            "Epoch 00010: ReduceLROnPlateau reducing learning rate to 0.00010000000474974513.\n",
            "Epoch 00010: early stopping\n"
          ],
          "name": "stdout"
        }
      ]
    },
    {
      "cell_type": "code",
      "metadata": {
        "id": "gBSYV24tln_N",
        "execution": {
          "iopub.status.busy": "2021-06-21T14:58:59.309849Z",
          "iopub.execute_input": "2021-06-21T14:58:59.310389Z",
          "iopub.status.idle": "2021-06-21T14:58:59.317408Z",
          "shell.execute_reply.started": "2021-06-21T14:58:59.310355Z",
          "shell.execute_reply": "2021-06-21T14:58:59.315930Z"
        },
        "trusted": true,
        "outputId": "d4060766-88fd-4780-816a-cb7acc243d37"
      },
      "source": [
        "#get the keys of history object\n",
        "history.history.keys()"
      ],
      "execution_count": null,
      "outputs": [
        {
          "output_type": "execute_result",
          "data": {
            "text/plain": [
              "dict_keys(['loss', 'accuracy', 'val_loss', 'val_accuracy', 'lr'])"
            ]
          },
          "metadata": {
            "tags": []
          },
          "execution_count": 72
        }
      ]
    },
    {
      "cell_type": "code",
      "metadata": {
        "id": "p73kJvH2ln_O",
        "execution": {
          "iopub.status.busy": "2021-06-21T14:59:00.369808Z",
          "iopub.execute_input": "2021-06-21T14:59:00.370214Z",
          "iopub.status.idle": "2021-06-21T14:59:00.552997Z",
          "shell.execute_reply.started": "2021-06-21T14:59:00.370181Z",
          "shell.execute_reply": "2021-06-21T14:59:00.551516Z"
        },
        "trusted": true,
        "outputId": "99c11cd5-242b-4c2d-8b61-17c49c5fa8a6"
      },
      "source": [
        "#plot graph between training and validation loss\n",
        "plt.plot(history.history['loss'])\n",
        "plt.plot(history.history['val_loss'])\n",
        "plt.legend(['Training', 'Validation'])\n",
        "plt.title('Training and validation losses')\n",
        "plt.xlabel('epoch')"
      ],
      "execution_count": null,
      "outputs": [
        {
          "output_type": "execute_result",
          "data": {
            "text/plain": [
              "Text(0.5, 0, 'epoch')"
            ]
          },
          "metadata": {
            "tags": []
          },
          "execution_count": 73
        },
        {
          "output_type": "display_data",
          "data": {
            "text/plain": [
              "<Figure size 432x288 with 1 Axes>"
            ],
            "image/png": "[encoded data removed]"
          },
          "metadata": {
            "tags": [],
            "needs_background": "light"
          }
        }
      ]
    },
    {
      "cell_type": "code",
      "metadata": {
        "id": "6xndHq9wln_P",
        "execution": {
          "iopub.status.busy": "2021-06-21T14:59:01.418431Z",
          "iopub.execute_input": "2021-06-21T14:59:01.418847Z",
          "iopub.status.idle": "2021-06-21T14:59:01.600825Z",
          "shell.execute_reply.started": "2021-06-21T14:59:01.418814Z",
          "shell.execute_reply": "2021-06-21T14:59:01.599475Z"
        },
        "trusted": true,
        "outputId": "b74ca79b-3581-48cf-9b92-8efbb9ca0e77"
      },
      "source": [
        "#plot graph between training and validation accuarcy\n",
        "#plot graph between training and validation loss\n",
        "plt.plot(history.history['accuracy'])\n",
        "plt.plot(history.history['val_accuracy'])\n",
        "plt.legend(['Training', 'Validation'])\n",
        "plt.title('Training and validation accuracy')\n",
        "plt.xlabel('epoch')"
      ],
      "execution_count": null,
      "outputs": [
        {
          "output_type": "execute_result",
          "data": {
            "text/plain": [
              "Text(0.5, 0, 'epoch')"
            ]
          },
          "metadata": {
            "tags": []
          },
          "execution_count": 74
        },
        {
          "output_type": "display_data",
          "data": {
            "text/plain": [
              "<Figure size 432x288 with 1 Axes>"
            ],
            "image/png": "[encoded data removed]"
          },
          "metadata": {
            "tags": [],
            "needs_background": "light"
          }
        }
      ]
    },
    {
      "cell_type": "code",
      "metadata": {
        "id": "lmoYzY_Tln_P",
        "execution": {
          "iopub.status.busy": "2021-06-21T15:21:18.679397Z",
          "iopub.execute_input": "2021-06-21T15:21:18.679864Z",
          "iopub.status.idle": "2021-06-21T15:21:19.041631Z",
          "shell.execute_reply.started": "2021-06-21T15:21:18.679827Z",
          "shell.execute_reply": "2021-06-21T15:21:19.040315Z"
        },
        "trusted": true,
        "outputId": "f8be07ba-8502-451b-f8e9-7b71abbdc758"
      },
      "source": [
        "import numpy as np\n",
        "import keras\n",
        "from keras.preprocessing import image\n",
        "from keras.models import load_model\n",
        "\n",
        "classifier = load_model('./COVix.h5')\n",
        "test_image = image.load_img('../input/covid899ttt/covidii.png',target_size = (64,64))\n",
        "\n",
        "\n",
        "test_image = image.img_to_array(test_image)\n",
        "test_image = np.expand_dims(test_image,axis = 0)\n",
        "result = classifier.predict(test_image)\n",
        "#result = [[0 ]]\n",
        "\n",
        "if result[0][0]== 1:\n",
        "    prediction = 'COVID'\n",
        "    print(prediction)\n",
        "elif result[0][0]==2:\n",
        "    prediction='Lung_Opacity'\n",
        "    print(prediction)\n",
        "elif result[0][0]==3:\n",
        "    prediction='Normal'\n",
        "    print(prediction)\n",
        "else:\n",
        "    print('Viral_pneumonia')\n",
        "\n",
        "    "
      ],
      "execution_count": null,
      "outputs": [
        {
          "output_type": "stream",
          "text": [
            "COVID\n"
          ],
          "name": "stdout"
        }
      ]
    },
    {
      "cell_type": "code",
      "metadata": {
        "execution": {
          "iopub.status.busy": "2021-06-21T14:45:45.211249Z",
          "iopub.execute_input": "2021-06-21T14:45:45.211640Z",
          "iopub.status.idle": "2021-06-21T14:46:05.030982Z",
          "shell.execute_reply.started": "2021-06-21T14:45:45.211603Z",
          "shell.execute_reply": "2021-06-21T14:46:05.029764Z"
        },
        "trusted": true,
        "id": "spYxTzh6gWOG",
        "outputId": "94ad435b-602a-45e1-ea8d-0be354aa3df6"
      },
      "source": [
        "# Displaying our Confusion Matrix\n",
        "from sklearn.metrics import classification_report, confusion_matrix\n",
        "import numpy as np\n",
        "import matplotlib\n",
        "#Confution Matrix and Classification Report\n",
        "class_labels = { 0:\"COVID\", 1:\"Lung_Opacity\", 2:\"Normal\", 3:\"Viral Pneumonia\"}\n",
        "Y_pred = classifier.predict_generator(valid_generator, nb_validation_samples // batch_size+1) # put classifier not model\n",
        "y_pred = np.argmax(Y_pred, axis=1)\n",
        "print('Confusion Matrix')\n",
        "print(confusion_matrix(valid_generator.classes, y_pred))\n",
        "print('Classification Report')\n",
        "target_names = list(class_labels.values())\n",
        "print(classification_report(valid_generator.classes, y_pred, target_names=target_names))\n",
        "\n"
      ],
      "execution_count": null,
      "outputs": [
        {
          "output_type": "stream",
          "text": [
            "/opt/conda/lib/python3.7/site-packages/tensorflow/python/keras/engine/training.py:1905: UserWarning: `Model.predict_generator` is deprecated and will be removed in a future version. Please use `Model.predict`, which supports generators.\n",
            "  warnings.warn('`Model.predict_generator` is deprecated and '\n"
          ],
          "name": "stderr"
        },
        {
          "output_type": "stream",
          "text": [
            "Confusion Matrix\n",
            "[[ 624   44   52    3]\n",
            " [  23  977  200    2]\n",
            " [  41   72 1918    7]\n",
            " [   5    3   28  233]]\n",
            "Classification Report\n",
            "                 precision    recall  f1-score   support\n",
            "\n",
            "          COVID       0.90      0.86      0.88       723\n",
            "   Lung_Opacity       0.89      0.81      0.85      1202\n",
            "         Normal       0.87      0.94      0.91      2038\n",
            "Viral Pneumonia       0.95      0.87      0.91       269\n",
            "\n",
            "       accuracy                           0.89      4232\n",
            "      macro avg       0.90      0.87      0.89      4232\n",
            "   weighted avg       0.89      0.89      0.89      4232\n",
            "\n"
          ],
          "name": "stdout"
        }
      ]
    },
    {
      "cell_type": "code",
      "metadata": {
        "execution": {
          "iopub.status.busy": "2021-06-21T14:46:05.032493Z",
          "iopub.execute_input": "2021-06-21T14:46:05.032774Z",
          "iopub.status.idle": "2021-06-21T14:46:25.139762Z",
          "shell.execute_reply.started": "2021-06-21T14:46:05.032743Z",
          "shell.execute_reply": "2021-06-21T14:46:25.138498Z"
        },
        "trusted": true,
        "id": "JNP0TUNsgWOH",
        "outputId": "12970705-c723-422b-8075-d9f0b7a0af93"
      },
      "source": [
        "import matplotlib.pyplot as plt\n",
        "import sklearn\n",
        "from sklearn.metrics import classification_report, confusion_matrix\n",
        "import numpy as np\n",
        "from keras.models import load_model\n",
        "\n",
        "img_row, img_height, img_depth = 32,32,3\n",
        "model = load_model('./COVix.h5')\n",
        "\n",
        "class_labels = valid_generator.class_indices\n",
        "class_labels = {v: k for k, v in class_labels.items()}\n",
        "classes = list(class_labels.values())\n",
        "\n",
        "nb_train_samples = 16933\n",
        "nb_validation_samples = 4232\n",
        "\n",
        "#Confution Matrix and Classification Report\n",
        "Y_pred = model.predict_generator(valid_generator, nb_validation_samples // batch_size+1)\n",
        "y_pred = np.argmax(Y_pred, axis=1)\n",
        "\n",
        "target_names = list(class_labels.values())\n",
        "\n",
        "plt.figure(figsize=(20,20))\n",
        "cnf_matrix = confusion_matrix(valid_generator.classes, y_pred)\n",
        "\n",
        "plt.imshow(cnf_matrix, interpolation='nearest')\n",
        "plt.colorbar()\n",
        "tick_marks = np.arange(len(classes))\n",
        "_ = plt.xticks(tick_marks, classes, rotation=90)\n",
        "_ = plt.yticks(tick_marks, classes)"
      ],
      "execution_count": null,
      "outputs": [
        {
          "output_type": "stream",
          "text": [
            "/opt/conda/lib/python3.7/site-packages/tensorflow/python/keras/engine/training.py:1905: UserWarning: `Model.predict_generator` is deprecated and will be removed in a future version. Please use `Model.predict`, which supports generators.\n",
            "  warnings.warn('`Model.predict_generator` is deprecated and '\n"
          ],
          "name": "stderr"
        },
        {
          "output_type": "display_data",
          "data": {
            "text/plain": [
              "<Figure size 1440x1440 with 2 Axes>"
            ],
            "image/png": "[encoded data removed]"
          },
          "metadata": {
            "tags": [],
            "needs_background": "light"
          }
        }
      ]
    },
    {
      "cell_type": "code",
      "metadata": {
        "id": "cgc8hUq1gWOI"
      },
      "source": [
        ""
      ],
      "execution_count": null,
      "outputs": []
    }
  ]
}